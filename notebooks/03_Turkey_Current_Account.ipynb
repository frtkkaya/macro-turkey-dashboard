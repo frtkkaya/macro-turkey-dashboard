{
 "cells": [
  {
   "cell_type": "markdown",
   "id": "49a2ef75",
   "metadata": {},
   "source": [
    "# Turkey Current Account\n",
    "\n",
    "World Bank series for current account balance (USD) and as % of GDP."
   ]
  },
  {
   "cell_type": "code",
   "execution_count": null,
   "id": "055e5405",
   "metadata": {},
   "outputs": [],
   "source": [
    "import json\n",
    "import matplotlib.pyplot as plt\n",
    "from src.data.worldbank import fetch_indicator\n",
    "\n",
    "with open('src/data/indicators.json', 'r', encoding='utf-8') as f:\n",
    "    IND = json.load(f)[\"TUR\"]"
   ]
  },
  {
   "cell_type": "code",
   "execution_count": null,
   "id": "a4d12a64",
   "metadata": {},
   "outputs": [],
   "source": [
    "\n",
    "cab_usd = fetch_indicator('TUR', IND[\"Current_account_balance_USD\"])\n",
    "cab_gdp = fetch_indicator('TUR\", IND[\"Current_account_balance_percent_GDP\"])\n"
   ]
  },
  {
   "cell_type": "markdown",
   "id": "7805c5c0",
   "metadata": {},
   "source": [
    "## Plot: Current Account Balance (USD, billions)"
   ]
  },
  {
   "cell_type": "code",
   "execution_count": null,
   "id": "a4e07ccb",
   "metadata": {},
   "outputs": [],
   "source": [
    "import pandas as pd\n",
    "df = cab_usd.copy()\n",
    "df['value'] = df['value'] / 1e9\n",
    "plt.figure()\n",
    "plt.bar(df['date'], df['value'])\n",
    "plt.title('Turkey Current Account Balance (USD bn)')\n",
    "plt.xlabel('Year'); plt.ylabel('USD bn'); plt.grid(True, axis='y')\n",
    "plt.show()"
   ]
  },
  {
   "cell_type": "markdown",
   "id": "b933c57f",
   "metadata": {},
   "source": [
    "## Plot: Current Account (% of GDP)"
   ]
  },
  {
   "cell_type": "code",
   "execution_count": null,
   "id": "f668cc7f",
   "metadata": {},
   "outputs": [],
   "source": [
    "plt.figure()\n",
    "plt.plot(cab_gdp['date'], cab_gdp['value'])\n",
    "plt.axhline(0, linestyle='--')\n",
    "plt.title('Turkey Current Account (% of GDP)')\n",
    "plt.xlabel('Year'); plt.ylabel('% of GDP'); plt.grid(True)\n",
    "plt.show()"
   ]
  }
 ],
 "metadata": {},
 "nbformat": 4,
 "nbformat_minor": 5
}
