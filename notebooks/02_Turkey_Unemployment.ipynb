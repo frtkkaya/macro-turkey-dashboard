{
 "cells": [
  {
   "cell_type": "markdown",
   "id": "8a09a6c8",
   "metadata": {},
   "source": [
    "# Turkey Unemployment & GDP\n",
    "\n",
    "Fetch unemployment rate and overlay with GDP growth."
   ]
  },
  {
   "cell_type": "code",
   "execution_count": null,
   "id": "5e11afac",
   "metadata": {},
   "outputs": [],
   "source": [
    "import json\n",
    "import pandas as pd\n",
    "import matplotlib.pyplot as plt\n",
    "from src.data.worldbank import fetch_indicator\n",
    "\n",
    "with open('src/data/indicators.json', 'r', encoding='utf-8') as f:\n",
    "    IND = json.load(f)[\"TUR\"]"
   ]
  },
  {
   "cell_type": "code",
   "execution_count": null,
   "id": "0f46f71a",
   "metadata": {},
   "outputs": [],
   "source": [
    "unemp = fetch_indicator('TUR', IND[\"Unemployment_total_percent\"])\n",
    "gdp_g = fetch_indicator('TUR', IND[\"GDP_growth_annual_percent\"])\n",
    "unemp.tail(), gdp_g.tail()"
   ]
  },
  {
   "cell_type": "markdown",
   "id": "e21f8f9f",
   "metadata": {},
   "source": [
    "## Plot: Unemployment (%)"
   ]
  },
  {
   "cell_type": "code",
   "execution_count": null,
   "id": "8ed61a6d",
   "metadata": {},
   "outputs": [],
   "source": [
    "plt.figure()\n",
    "plt.plot(unemp['date'], unemp['value'])\n",
    "plt.title('Turkey Unemployment (%, ILO estimate)')\n",
    "plt.xlabel('Year'); plt.ylabel('%'); plt.grid(True)\n",
    "plt.show()"
   ]
  },
  {
   "cell_type": "markdown",
   "id": "5447b477",
   "metadata": {},
   "source": [
    "## Plot: Overlay with GDP Growth (%)"
   ]
  },
  {
   "cell_type": "code",
   "execution_count": null,
   "id": "a8ec0745",
   "metadata": {},
   "outputs": [],
   "source": [
    "merged = pd.merge(unemp, gdp_g, on='date', suffixes=('_unemp','_gdp'))\n",
    "plt.figure()\n",
    "plt.plot(merged['date'], merged['value_unemp'], label='Unemployment %')\n",
    "plt.plot(merged['date'], merged['value_gdp'], label='GDP Growth %')\n",
    "plt.title('Turkey: Unemployment vs GDP Growth')\n",
    "plt.xlabel('Year'); plt.ylabel('%'); plt.grid(True); plt.legend()\n",
    "plt.show()"
   ]
  },
  {
   "cell_type": "markdown",
   "id": "6b7d38a6",
   "metadata": {},
   "source": [
    "> Quick take: unemployment tends to rise during weak growth periods; look for inflection points around recessions."
   ]
  }
 ],
 "metadata": {},
 "nbformat": 4,
 "nbformat_minor": 5
}
