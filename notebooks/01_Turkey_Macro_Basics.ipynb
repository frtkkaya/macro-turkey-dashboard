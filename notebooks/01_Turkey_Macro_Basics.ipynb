{
 "cells": [
  {
   "cell_type": "markdown",
   "id": "8e4c6845",
   "metadata": {},
   "source": [
    "# Turkey Macro Basics\n",
    "\n",
    "This starter notebook pulls **World Bank** data for Turkey and makes a couple of simple plots."
   ]
  },
  {
   "cell_type": "code",
   "execution_count": null,
   "id": "ba21ddc5",
   "metadata": {},
   "outputs": [],
   "source": [
    "import pandas as pd\n",
    "import matplotlib.pyplot as plt\n",
    "from src.data.worldbank import fetch_indicator"
   ]
  },
  {
   "cell_type": "markdown",
   "id": "41b7c24a",
   "metadata": {},
   "source": [
    "## Fetch data\n",
    "- CPI inflation (annual %, `FP.CPI.TOTL.ZG`)\n",
    "- GDP growth (annual %, `NY.GDP.MKTP.KD.ZG`)"
   ]
  },
  {
   "cell_type": "code",
   "execution_count": null,
   "id": "e9c009d6",
   "metadata": {},
   "outputs": [],
   "source": [
    "cpi = fetch_indicator('TUR', 'FP.CPI.TOTL.ZG')\n",
    "gdp = fetch_indicator('TUR', 'NY.GDP.MKTP.KD.ZG')\n",
    "cpi.tail(), gdp.tail()"
   ]
  },
  {
   "cell_type": "markdown",
   "id": "fd5868b3",
   "metadata": {},
   "source": [
    "## Plot\n",
    "Each chart is a separate figure (matplotlib defaults)."
   ]
  },
  {
   "cell_type": "code",
   "execution_count": null,
   "id": "78ff7192",
   "metadata": {},
   "outputs": [],
   "source": [
    "# CPI Inflation\n",
    "plt.figure()\n",
    "plt.plot(cpi['date'], cpi['value'])\n",
    "plt.title('Turkey CPI Inflation (annual %)')\n",
    "plt.xlabel('Year')\n",
    "plt.ylabel('%')\n",
    "plt.grid(True)\n",
    "plt.show()"
   ]
  },
  {
   "cell_type": "code",
   "execution_count": null,
   "id": "7357270d",
   "metadata": {},
   "outputs": [],
   "source": [
    "# GDP Growth\n",
    "plt.figure()\n",
    "plt.plot(gdp['date'], gdp['value'])\n",
    "plt.title('Turkey GDP Growth (annual %)')\n",
    "plt.xlabel('Year')\n",
    "plt.ylabel('%')\n",
    "plt.grid(True)\n",
    "plt.show()"
   ]
  },
  {
   "cell_type": "markdown",
   "id": "ab2baea1",
   "metadata": {},
   "source": [
    "> Next: add unemployment, policy rate, and FX series; write a short README section with key takeaways."
   ]
  }
 ],
 "metadata": {},
 "nbformat": 4,
 "nbformat_minor": 5
}
